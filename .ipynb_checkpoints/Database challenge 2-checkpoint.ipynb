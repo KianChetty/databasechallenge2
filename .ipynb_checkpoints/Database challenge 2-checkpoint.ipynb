{
 "cells": [
  {
   "cell_type": "code",
   "execution_count": 1,
   "id": "3a614fdc",
   "metadata": {},
   "outputs": [],
   "source": [
    "import pandas as pd"
   ]
  },
  {
   "cell_type": "markdown",
   "id": "642559b9",
   "metadata": {},
   "source": [
    "# Database Challenge 2"
   ]
  },
  {
   "cell_type": "markdown",
   "id": "04d65148",
   "metadata": {},
   "source": [
    "An analyst has asked you to run a query to see the number of movie tickets per genre that was sold in December last year. The data he needs is spread across two tables."
   ]
  },
  {
   "cell_type": "code",
   "execution_count": 3,
   "id": "5eeb60cd",
   "metadata": {},
   "outputs": [],
   "source": [
    "columns = ['TicketID', '#Seat Number', '#MovieId']\n",
    "df = pd.DataFrame(columns = columns)"
   ]
  },
  {
   "cell_type": "code",
   "execution_count": 14,
   "id": "292b4b70",
   "metadata": {},
   "outputs": [],
   "source": [
    "ticket_id = [10, 20, 30]\n",
    "seat_number = [\"1A\", \"2B\", \"4C\"]\n",
    "movie_id = [1, 2, 3]\n",
    "df['TicketId'] = ticket_id \n",
    "df['#Seat Number'] = seat_number \n",
    "df['#MovieId'] = movie_id \n",
    "pd.set_option('colheader_justify', 'center') \n"
   ]
  },
  {
   "cell_type": "code",
   "execution_count": 8,
   "id": "ed4da70a",
   "metadata": {},
   "outputs": [],
   "source": [
    "columns = ['MovieId', '#Name', '#Genre'] \n",
    "df = pd.DataFrame(columns = columns)"
   ]
  },
  {
   "cell_type": "code",
   "execution_count": 9,
   "id": "7cfb0446",
   "metadata": {},
   "outputs": [],
   "source": [
    "movie_id = [1, 2, 3]\n",
    "name = ['Citizen Kane', 'Shutter Island', 'Scarecrow'] \n",
    "genre = ['Drama', 'Mystery', 'Comedy']\n",
    "df['MovieId'] = movie_id \n",
    "df['#Name'] = name \n",
    "df['#Genre'] = genre \n",
    "pd.set_option('colheader_justify', 'center') \n"
   ]
  },
  {
   "cell_type": "code",
   "execution_count": 5,
   "id": "dde6638b",
   "metadata": {},
   "outputs": [
    {
     "data": {
      "text/html": [
       "<div>\n",
       "<style scoped>\n",
       "    .dataframe tbody tr th:only-of-type {\n",
       "        vertical-align: middle;\n",
       "    }\n",
       "\n",
       "    .dataframe tbody tr th {\n",
       "        vertical-align: top;\n",
       "    }\n",
       "\n",
       "    .dataframe thead th {\n",
       "        text-align: right;\n",
       "    }\n",
       "</style>\n",
       "<table border=\"1\" class=\"dataframe\">\n",
       "  <thead>\n",
       "    <tr style=\"text-align: right;\">\n",
       "      <th></th>\n",
       "      <th>TicketId</th>\n",
       "      <th>#Seat Number</th>\n",
       "      <th>#MovieId</th>\n",
       "    </tr>\n",
       "  </thead>\n",
       "  <tbody>\n",
       "    <tr>\n",
       "      <th>0</th>\n",
       "      <td>10</td>\n",
       "      <td>1A</td>\n",
       "      <td>1</td>\n",
       "    </tr>\n",
       "    <tr>\n",
       "      <th>1</th>\n",
       "      <td>20</td>\n",
       "      <td>2B</td>\n",
       "      <td>2</td>\n",
       "    </tr>\n",
       "    <tr>\n",
       "      <th>2</th>\n",
       "      <td>30</td>\n",
       "      <td>4C</td>\n",
       "      <td>3</td>\n",
       "    </tr>\n",
       "  </tbody>\n",
       "</table>\n",
       "</div>"
      ],
      "text/plain": [
       "   TicketId #Seat Number  #MovieId\n",
       "0        10           1A         1\n",
       "1        20           2B         2\n",
       "2        30           4C         3"
      ]
     },
     "execution_count": 5,
     "metadata": {},
     "output_type": "execute_result"
    }
   ],
   "source": [
    "df"
   ]
  },
  {
   "cell_type": "code",
   "execution_count": 13,
   "id": "9f863f1b",
   "metadata": {},
   "outputs": [
    {
     "data": {
      "text/html": [
       "<div>\n",
       "<style scoped>\n",
       "    .dataframe tbody tr th:only-of-type {\n",
       "        vertical-align: middle;\n",
       "    }\n",
       "\n",
       "    .dataframe tbody tr th {\n",
       "        vertical-align: top;\n",
       "    }\n",
       "\n",
       "    .dataframe thead th {\n",
       "        text-align: right;\n",
       "    }\n",
       "</style>\n",
       "<table border=\"1\" class=\"dataframe\">\n",
       "  <thead>\n",
       "    <tr style=\"text-align: right;\">\n",
       "      <th></th>\n",
       "      <th>MovieId</th>\n",
       "      <th>#Name</th>\n",
       "      <th>#Genre</th>\n",
       "    </tr>\n",
       "  </thead>\n",
       "  <tbody>\n",
       "    <tr>\n",
       "      <th>0</th>\n",
       "      <td>1</td>\n",
       "      <td>Citizen Kane</td>\n",
       "      <td>Drama</td>\n",
       "    </tr>\n",
       "    <tr>\n",
       "      <th>1</th>\n",
       "      <td>2</td>\n",
       "      <td>Shutter Island</td>\n",
       "      <td>Mystery</td>\n",
       "    </tr>\n",
       "    <tr>\n",
       "      <th>2</th>\n",
       "      <td>3</td>\n",
       "      <td>Scarecrow</td>\n",
       "      <td>Comedy</td>\n",
       "    </tr>\n",
       "  </tbody>\n",
       "</table>\n",
       "</div>"
      ],
      "text/plain": [
       "   MovieId           #Name   #Genre\n",
       "0        1    Citizen Kane    Drama\n",
       "1        2  Shutter Island  Mystery\n",
       "2        3       Scarecrow   Comedy"
      ]
     },
     "execution_count": 13,
     "metadata": {},
     "output_type": "execute_result"
    }
   ],
   "source": [
    "df"
   ]
  }
 ],
 "metadata": {
  "kernelspec": {
   "display_name": "Python 3",
   "language": "python",
   "name": "python3"
  },
  "language_info": {
   "codemirror_mode": {
    "name": "ipython",
    "version": 3
   },
   "file_extension": ".py",
   "mimetype": "text/x-python",
   "name": "python",
   "nbconvert_exporter": "python",
   "pygments_lexer": "ipython3",
   "version": "3.8.8"
  }
 },
 "nbformat": 4,
 "nbformat_minor": 5
}
